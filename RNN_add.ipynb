{
 "cells": [
  {
   "cell_type": "code",
   "execution_count": 1,
   "metadata": {},
   "outputs": [
    {
     "ename": "ModuleNotFoundError",
     "evalue": "No module named 'keras'",
     "output_type": "error",
     "traceback": [
      "\u001b[1;31m---------------------------------------------------------------------------\u001b[0m",
      "\u001b[1;31mModuleNotFoundError\u001b[0m                       Traceback (most recent call last)",
      "\u001b[1;32m<ipython-input-1-9c1293e23646>\u001b[0m in \u001b[0;36m<module>\u001b[1;34m\u001b[0m\n\u001b[1;32m----> 1\u001b[1;33m \u001b[1;32mimport\u001b[0m \u001b[0mkeras\u001b[0m\u001b[1;33m\u001b[0m\u001b[1;33m\u001b[0m\u001b[0m\n\u001b[0m\u001b[0;32m      2\u001b[0m \u001b[1;32mfrom\u001b[0m \u001b[0mrandom\u001b[0m \u001b[1;32mimport\u001b[0m \u001b[0mseed\u001b[0m\u001b[1;33m\u001b[0m\u001b[1;33m\u001b[0m\u001b[0m\n\u001b[0;32m      3\u001b[0m \u001b[1;32mfrom\u001b[0m \u001b[0mrandom\u001b[0m \u001b[1;32mimport\u001b[0m \u001b[0mrandint\u001b[0m\u001b[1;33m\u001b[0m\u001b[1;33m\u001b[0m\u001b[0m\n\u001b[0;32m      4\u001b[0m \u001b[1;32mfrom\u001b[0m \u001b[0mnumpy\u001b[0m \u001b[1;32mimport\u001b[0m \u001b[0marray\u001b[0m\u001b[1;33m\u001b[0m\u001b[1;33m\u001b[0m\u001b[0m\n\u001b[0;32m      5\u001b[0m \u001b[1;32mfrom\u001b[0m \u001b[0mkeras\u001b[0m\u001b[1;33m.\u001b[0m\u001b[0mmodels\u001b[0m \u001b[1;32mimport\u001b[0m \u001b[0mSequential\u001b[0m\u001b[1;33m\u001b[0m\u001b[1;33m\u001b[0m\u001b[0m\n",
      "\u001b[1;31mModuleNotFoundError\u001b[0m: No module named 'keras'"
     ]
    }
   ],
   "source": [
    "import keras\n",
    "from random import seed\n",
    "from random import randint\n",
    "from numpy import array\n",
    "from keras.models import Sequential\n",
    "from keras.layers import Dense\n",
    "from keras.layers import LSTM\n",
    "from math import sqrt\n",
    "from sklearn.metrics import mean_squared_error\n",
    "\n",
    "# generate examples of random integers and their sum\n",
    "def random_sum_pairs(n_examples, n_numbers, largest):\n",
    "    X, y = list(), list()\n",
    "    for i in range(n_examples):\n",
    "        in_pattern = [randint(1,largest) for _ in range(n_numbers)]\n",
    "        out_pattern = sum(in_pattern)\n",
    "        X.append(in_pattern)\n",
    "        y.append(out_pattern)\n",
    "# format as NumPy arrays\n",
    "    X,y = array(X), array(y)\n",
    "    # normalize\n",
    "    X = X.astype('float') / float(largest * n_numbers)\n",
    "    y = y.astype('float') / float(largest * n_numbers)\n",
    "    return X, y\n",
    "\n",
    "# invert normalization\n",
    "def invert(value, n_numbers, largest):\n",
    "    return round(value * float(largest * n_numbers))\n",
    "\n",
    "# generate training data\n",
    "seed(1)\n",
    "n_examples = 100\n",
    "n_numbers = 2\n",
    "largest = 100\n",
    "# define LSTM configuration\n",
    "n_batch = 1\n",
    "n_epoch = 100\n",
    "# create LSTM\n",
    "model = Sequential()\n",
    "model.add(LSTM(10, input_shape=(n_numbers, 1)))\n",
    "model.add(Dense(1))\n",
    "model.compile(loss='mean_squared_error', optimizer='adam')\n",
    "# train LSTM\n",
    "for _ in range(n_epoch):\n",
    "    X, y = random_sum_pairs(n_examples, n_numbers, largest)\n",
    "    X = X.reshape(n_examples, n_numbers, 1)\n",
    "    /model.fit(X, y, epochs=1, batch_size=n_batch, verbose=2)\n",
    "# evaluate on some new patterns\n",
    "X, y = random_sum_pairs(n_examples, n_numbers, largest)\n",
    "X = X.reshape(n_examples, n_numbers, 1)\n",
    "result = model.predict(X, batch_size=n_batch, verbose=0)\n",
    "# calculate error\n",
    "expected = [invert(x, n_numbers, largest) for x in y]\n",
    "predicted = [invert(x, n_numbers, largest) for x in result[:,0]]\n",
    "rmse = sqrt(mean_squared_error(expected, predicted))\n",
    "print('RMSE: %f' % rmse)\n",
    "# show some examples\n",
    "for i in range(20):\n",
    "    error = expected[i] - predicted[i]\n",
    "    print('Expected=%d, Predicted=%d (err=%d)' % (expected[i], predicted[i], error))"
   ]
  },
  {
   "cell_type": "code",
   "execution_count": null,
   "metadata": {},
   "outputs": [],
   "source": []
  },
  {
   "cell_type": "code",
   "execution_count": null,
   "metadata": {},
   "outputs": [],
   "source": []
  }
 ],
 "metadata": {
  "kernelspec": {
   "display_name": "Python 3",
   "language": "python",
   "name": "python3"
  },
  "language_info": {
   "codemirror_mode": {
    "name": "ipython",
    "version": 3
   },
   "file_extension": ".py",
   "mimetype": "text/x-python",
   "name": "python",
   "nbconvert_exporter": "python",
   "pygments_lexer": "ipython3",
   "version": "3.6.8"
  }
 },
 "nbformat": 4,
 "nbformat_minor": 2
}
